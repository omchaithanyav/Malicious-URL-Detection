{
 "cells": [
  {
   "cell_type": "code",
   "execution_count": 182,
   "id": "869814eb",
   "metadata": {},
   "outputs": [],
   "source": [
    "import pandas as pd\n",
    "import numpy as np\n",
    "import klib\n",
    "from sklearn.utils import shuffle\n",
    "import validators"
   ]
  },
  {
   "cell_type": "code",
   "execution_count": 183,
   "id": "51e7e844",
   "metadata": {},
   "outputs": [
    {
     "data": {
      "text/html": [
       "<div>\n",
       "<style scoped>\n",
       "    .dataframe tbody tr th:only-of-type {\n",
       "        vertical-align: middle;\n",
       "    }\n",
       "\n",
       "    .dataframe tbody tr th {\n",
       "        vertical-align: top;\n",
       "    }\n",
       "\n",
       "    .dataframe thead th {\n",
       "        text-align: right;\n",
       "    }\n",
       "</style>\n",
       "<table border=\"1\" class=\"dataframe\">\n",
       "  <thead>\n",
       "    <tr style=\"text-align: right;\">\n",
       "      <th></th>\n",
       "      <th>Unnamed: 0</th>\n",
       "      <th>url</th>\n",
       "      <th>label</th>\n",
       "      <th>result</th>\n",
       "    </tr>\n",
       "  </thead>\n",
       "  <tbody>\n",
       "    <tr>\n",
       "      <th>0</th>\n",
       "      <td>0</td>\n",
       "      <td>https://www.google.com</td>\n",
       "      <td>benign</td>\n",
       "      <td>0</td>\n",
       "    </tr>\n",
       "    <tr>\n",
       "      <th>1</th>\n",
       "      <td>1</td>\n",
       "      <td>https://www.youtube.com</td>\n",
       "      <td>benign</td>\n",
       "      <td>0</td>\n",
       "    </tr>\n",
       "    <tr>\n",
       "      <th>2</th>\n",
       "      <td>2</td>\n",
       "      <td>https://www.facebook.com</td>\n",
       "      <td>benign</td>\n",
       "      <td>0</td>\n",
       "    </tr>\n",
       "    <tr>\n",
       "      <th>3</th>\n",
       "      <td>3</td>\n",
       "      <td>https://www.baidu.com</td>\n",
       "      <td>benign</td>\n",
       "      <td>0</td>\n",
       "    </tr>\n",
       "    <tr>\n",
       "      <th>4</th>\n",
       "      <td>4</td>\n",
       "      <td>https://www.wikipedia.org</td>\n",
       "      <td>benign</td>\n",
       "      <td>0</td>\n",
       "    </tr>\n",
       "  </tbody>\n",
       "</table>\n",
       "</div>"
      ],
      "text/plain": [
       "   Unnamed: 0                        url   label  result\n",
       "0           0     https://www.google.com  benign       0\n",
       "1           1    https://www.youtube.com  benign       0\n",
       "2           2   https://www.facebook.com  benign       0\n",
       "3           3      https://www.baidu.com  benign       0\n",
       "4           4  https://www.wikipedia.org  benign       0"
      ]
     },
     "execution_count": 183,
     "metadata": {},
     "output_type": "execute_result"
    }
   ],
   "source": [
    "# load the data from csv file\n",
    "df = pd.read_csv('urldata.csv')\n",
    "df.head()"
   ]
  },
  {
   "cell_type": "markdown",
   "id": "31b797c9",
   "metadata": {},
   "source": [
    "# Data Preprocessing"
   ]
  },
  {
   "cell_type": "code",
   "execution_count": 184,
   "id": "e4613052",
   "metadata": {},
   "outputs": [
    {
     "data": {
      "text/html": [
       "<div>\n",
       "<style scoped>\n",
       "    .dataframe tbody tr th:only-of-type {\n",
       "        vertical-align: middle;\n",
       "    }\n",
       "\n",
       "    .dataframe tbody tr th {\n",
       "        vertical-align: top;\n",
       "    }\n",
       "\n",
       "    .dataframe thead th {\n",
       "        text-align: right;\n",
       "    }\n",
       "</style>\n",
       "<table border=\"1\" class=\"dataframe\">\n",
       "  <thead>\n",
       "    <tr style=\"text-align: right;\">\n",
       "      <th></th>\n",
       "      <th>Unnamed: 0</th>\n",
       "      <th>url</th>\n",
       "      <th>label</th>\n",
       "      <th>result</th>\n",
       "    </tr>\n",
       "  </thead>\n",
       "  <tbody>\n",
       "    <tr>\n",
       "      <th>119315</th>\n",
       "      <td>119315</td>\n",
       "      <td>https://www.wn.com/Interstate_10</td>\n",
       "      <td>benign</td>\n",
       "      <td>0</td>\n",
       "    </tr>\n",
       "    <tr>\n",
       "      <th>253379</th>\n",
       "      <td>253379</td>\n",
       "      <td>https://www.musicstack.com/album/doobie+brothe...</td>\n",
       "      <td>benign</td>\n",
       "      <td>0</td>\n",
       "    </tr>\n",
       "    <tr>\n",
       "      <th>259413</th>\n",
       "      <td>259413</td>\n",
       "      <td>https://www.myspace.com/suicidekingfilms</td>\n",
       "      <td>benign</td>\n",
       "      <td>0</td>\n",
       "    </tr>\n",
       "    <tr>\n",
       "      <th>422589</th>\n",
       "      <td>422589</td>\n",
       "      <td>http://www.arrowlife.com/Ourtimela/ourtime/v3/...</td>\n",
       "      <td>malicious</td>\n",
       "      <td>1</td>\n",
       "    </tr>\n",
       "    <tr>\n",
       "      <th>433205</th>\n",
       "      <td>433205</td>\n",
       "      <td>http://yellohm.com/wp-content/uploads/2017/12/...</td>\n",
       "      <td>malicious</td>\n",
       "      <td>1</td>\n",
       "    </tr>\n",
       "  </tbody>\n",
       "</table>\n",
       "</div>"
      ],
      "text/plain": [
       "        Unnamed: 0                                                url  \\\n",
       "119315      119315                   https://www.wn.com/Interstate_10   \n",
       "253379      253379  https://www.musicstack.com/album/doobie+brothe...   \n",
       "259413      259413           https://www.myspace.com/suicidekingfilms   \n",
       "422589      422589  http://www.arrowlife.com/Ourtimela/ourtime/v3/...   \n",
       "433205      433205  http://yellohm.com/wp-content/uploads/2017/12/...   \n",
       "\n",
       "            label  result  \n",
       "119315     benign       0  \n",
       "253379     benign       0  \n",
       "259413     benign       0  \n",
       "422589  malicious       1  \n",
       "433205  malicious       1  "
      ]
     },
     "execution_count": 184,
     "metadata": {},
     "output_type": "execute_result"
    }
   ],
   "source": [
    "# shuffle data\n",
    "df = shuffle(df)\n",
    "df.head()"
   ]
  },
  {
   "cell_type": "code",
   "execution_count": 185,
   "id": "01d80484",
   "metadata": {},
   "outputs": [
    {
     "data": {
      "text/html": [
       "<div>\n",
       "<style scoped>\n",
       "    .dataframe tbody tr th:only-of-type {\n",
       "        vertical-align: middle;\n",
       "    }\n",
       "\n",
       "    .dataframe tbody tr th {\n",
       "        vertical-align: top;\n",
       "    }\n",
       "\n",
       "    .dataframe thead th {\n",
       "        text-align: right;\n",
       "    }\n",
       "</style>\n",
       "<table border=\"1\" class=\"dataframe\">\n",
       "  <thead>\n",
       "    <tr style=\"text-align: right;\">\n",
       "      <th></th>\n",
       "      <th>index</th>\n",
       "      <th>url</th>\n",
       "      <th>label</th>\n",
       "      <th>result</th>\n",
       "    </tr>\n",
       "  </thead>\n",
       "  <tbody>\n",
       "    <tr>\n",
       "      <th>119315</th>\n",
       "      <td>119315</td>\n",
       "      <td>https://www.wn.com/Interstate_10</td>\n",
       "      <td>benign</td>\n",
       "      <td>0</td>\n",
       "    </tr>\n",
       "    <tr>\n",
       "      <th>253379</th>\n",
       "      <td>253379</td>\n",
       "      <td>https://www.musicstack.com/album/doobie+brothe...</td>\n",
       "      <td>benign</td>\n",
       "      <td>0</td>\n",
       "    </tr>\n",
       "    <tr>\n",
       "      <th>259413</th>\n",
       "      <td>259413</td>\n",
       "      <td>https://www.myspace.com/suicidekingfilms</td>\n",
       "      <td>benign</td>\n",
       "      <td>0</td>\n",
       "    </tr>\n",
       "    <tr>\n",
       "      <th>422589</th>\n",
       "      <td>422589</td>\n",
       "      <td>http://www.arrowlife.com/Ourtimela/ourtime/v3/...</td>\n",
       "      <td>malicious</td>\n",
       "      <td>1</td>\n",
       "    </tr>\n",
       "    <tr>\n",
       "      <th>433205</th>\n",
       "      <td>433205</td>\n",
       "      <td>http://yellohm.com/wp-content/uploads/2017/12/...</td>\n",
       "      <td>malicious</td>\n",
       "      <td>1</td>\n",
       "    </tr>\n",
       "  </tbody>\n",
       "</table>\n",
       "</div>"
      ],
      "text/plain": [
       "         index                                                url      label  \\\n",
       "119315  119315                   https://www.wn.com/Interstate_10     benign   \n",
       "253379  253379  https://www.musicstack.com/album/doobie+brothe...     benign   \n",
       "259413  259413           https://www.myspace.com/suicidekingfilms     benign   \n",
       "422589  422589  http://www.arrowlife.com/Ourtimela/ourtime/v3/...  malicious   \n",
       "433205  433205  http://yellohm.com/wp-content/uploads/2017/12/...  malicious   \n",
       "\n",
       "        result  \n",
       "119315       0  \n",
       "253379       0  \n",
       "259413       0  \n",
       "422589       1  \n",
       "433205       1  "
      ]
     },
     "execution_count": 185,
     "metadata": {},
     "output_type": "execute_result"
    }
   ],
   "source": [
    "# rename index column\n",
    "df = df.rename(columns={\"Unnamed: 0\":\"index\"})\n",
    "df.head()"
   ]
  },
  {
   "cell_type": "code",
   "execution_count": 186,
   "id": "8cbf510b",
   "metadata": {},
   "outputs": [
    {
     "data": {
      "text/plain": [
       "(450176, 4)"
      ]
     },
     "execution_count": 186,
     "metadata": {},
     "output_type": "execute_result"
    }
   ],
   "source": [
    "df.shape"
   ]
  },
  {
   "cell_type": "code",
   "execution_count": 187,
   "id": "3232d827",
   "metadata": {},
   "outputs": [
    {
     "name": "stdout",
     "output_type": "stream",
     "text": [
      "<class 'pandas.core.frame.DataFrame'>\n",
      "Int64Index: 450176 entries, 119315 to 223050\n",
      "Data columns (total 4 columns):\n",
      " #   Column  Non-Null Count   Dtype \n",
      "---  ------  --------------   ----- \n",
      " 0   index   450176 non-null  int64 \n",
      " 1   url     450176 non-null  object\n",
      " 2   label   450176 non-null  object\n",
      " 3   result  450176 non-null  int64 \n",
      "dtypes: int64(2), object(2)\n",
      "memory usage: 17.2+ MB\n"
     ]
    }
   ],
   "source": [
    "df.info()"
   ]
  },
  {
   "cell_type": "code",
   "execution_count": 188,
   "id": "8220a280",
   "metadata": {},
   "outputs": [
    {
     "name": "stdout",
     "output_type": "stream",
     "text": [
      "<class 'pandas.core.frame.DataFrame'>\n",
      "Int64Index: 450176 entries, 119315 to 223050\n",
      "Data columns (total 4 columns):\n",
      " #   Column  Non-Null Count   Dtype   \n",
      "---  ------  --------------   -----   \n",
      " 0   index   450176 non-null  int32   \n",
      " 1   url     450176 non-null  string  \n",
      " 2   label   450176 non-null  category\n",
      " 3   result  450176 non-null  int8    \n",
      "dtypes: category(1), int32(1), int8(1), string(1)\n",
      "memory usage: 9.4 MB\n"
     ]
    }
   ],
   "source": [
    "# using klib to convert existing dtypes to more efficient dtypes\n",
    "df = klib.convert_datatypes(df)\n",
    "df.info()"
   ]
  },
  {
   "cell_type": "code",
   "execution_count": 189,
   "id": "7dbf13c3",
   "metadata": {},
   "outputs": [
    {
     "data": {
      "text/plain": [
       "0"
      ]
     },
     "execution_count": 189,
     "metadata": {},
     "output_type": "execute_result"
    }
   ],
   "source": [
    "df.isnull().sum().sum()"
   ]
  },
  {
   "cell_type": "code",
   "execution_count": 190,
   "id": "96de67f7",
   "metadata": {},
   "outputs": [
    {
     "data": {
      "text/plain": [
       "450176"
      ]
     },
     "execution_count": 190,
     "metadata": {},
     "output_type": "execute_result"
    }
   ],
   "source": [
    "df['url'].nunique() "
   ]
  },
  {
   "cell_type": "code",
   "execution_count": 191,
   "id": "7a91a1f5",
   "metadata": {},
   "outputs": [
    {
     "data": {
      "text/plain": [
       "0    345738\n",
       "1    104438\n",
       "Name: result, dtype: int64"
      ]
     },
     "execution_count": 191,
     "metadata": {},
     "output_type": "execute_result"
    }
   ],
   "source": [
    "df['result'].value_counts()"
   ]
  },
  {
   "cell_type": "code",
   "execution_count": 192,
   "id": "fcb81641",
   "metadata": {},
   "outputs": [],
   "source": [
    "# Class count\n",
    "count_class_0, count_class_1 = df.result.value_counts()\n",
    "\n",
    "# Divide by class\n",
    "df_class_0 = df[df['result'] == 0]\n",
    "df_class_1 = df[df['result'] == 1]"
   ]
  },
  {
   "cell_type": "code",
   "execution_count": 193,
   "id": "ef27d3dc",
   "metadata": {},
   "outputs": [
    {
     "name": "stdout",
     "output_type": "stream",
     "text": [
      "Random over-sampling:\n",
      "0    345738\n",
      "1    345738\n",
      "Name: result, dtype: int64\n"
     ]
    }
   ],
   "source": [
    "# oversample 1-class and concat the DataFrames of both classes\n",
    "\n",
    "df_class_1_over = df_class_1.sample(count_class_0, replace=True)\n",
    "df_over = pd.concat([df_class_0, df_class_1_over], axis=0)\n",
    "\n",
    "print('Random over-sampling:')\n",
    "print(df_over.result.value_counts())"
   ]
  },
  {
   "cell_type": "code",
   "execution_count": 194,
   "id": "90ca1f6e",
   "metadata": {},
   "outputs": [],
   "source": [
    "df_over = shuffle(df_over)"
   ]
  },
  {
   "cell_type": "code",
   "execution_count": 195,
   "id": "eb5d78fe",
   "metadata": {},
   "outputs": [],
   "source": [
    "X = df_over['url']\n",
    "y = df_over['result']"
   ]
  },
  {
   "cell_type": "markdown",
   "id": "dd6064d2",
   "metadata": {},
   "source": [
    "# text preprocessing"
   ]
  },
  {
   "cell_type": "code",
   "execution_count": 196,
   "id": "ecd86be8",
   "metadata": {},
   "outputs": [],
   "source": [
    "from keras.preprocessing.text import Tokenizer\n",
    "from keras.preprocessing import sequence"
   ]
  },
  {
   "cell_type": "code",
   "execution_count": 197,
   "id": "fb22368e",
   "metadata": {},
   "outputs": [],
   "source": [
    "text = X"
   ]
  },
  {
   "cell_type": "code",
   "execution_count": 198,
   "id": "2850ccc0",
   "metadata": {},
   "outputs": [],
   "source": [
    "Tokenizer = Tokenizer()"
   ]
  },
  {
   "cell_type": "code",
   "execution_count": 199,
   "id": "a0e8b553",
   "metadata": {},
   "outputs": [
    {
     "data": {
      "text/plain": [
       "416143"
      ]
     },
     "execution_count": 199,
     "metadata": {},
     "output_type": "execute_result"
    }
   ],
   "source": [
    "Tokenizer.fit_on_texts(text) \n",
    "Tokenizer_vocab_size = len(Tokenizer.word_index)+1\n",
    "Tokenizer_vocab_size"
   ]
  },
  {
   "cell_type": "code",
   "execution_count": 200,
   "id": "8a41b4c0",
   "metadata": {},
   "outputs": [
    {
     "data": {
      "text/plain": [
       "((691476,), (691476,))"
      ]
     },
     "execution_count": 200,
     "metadata": {},
     "output_type": "execute_result"
    }
   ],
   "source": [
    "X.shape, y.shape"
   ]
  },
  {
   "cell_type": "code",
   "execution_count": 201,
   "id": "a3ff218d",
   "metadata": {},
   "outputs": [],
   "source": [
    "from sklearn.model_selection import train_test_split\n",
    "\n",
    "X_train, X_val, y_train, y_val = train_test_split(X, y, test_size=0.4, random_state=42)"
   ]
  },
  {
   "cell_type": "code",
   "execution_count": 202,
   "id": "4bae4c9b",
   "metadata": {},
   "outputs": [
    {
     "data": {
      "text/plain": [
       "((414885,), (276591,))"
      ]
     },
     "execution_count": 202,
     "metadata": {},
     "output_type": "execute_result"
    }
   ],
   "source": [
    "X_train.shape, X_val.shape"
   ]
  },
  {
   "cell_type": "code",
   "execution_count": 203,
   "id": "f507810c",
   "metadata": {},
   "outputs": [],
   "source": [
    "X_train_encoded_words = Tokenizer.texts_to_sequences(X_train)\n",
    "X_val_encoded_words = Tokenizer.texts_to_sequences(X_val)"
   ]
  },
  {
   "cell_type": "code",
   "execution_count": 204,
   "id": "f4f5a05d",
   "metadata": {},
   "outputs": [
    {
     "data": {
      "text/plain": [
       "((414885, 100), (276591, 100))"
      ]
     },
     "execution_count": 204,
     "metadata": {},
     "output_type": "execute_result"
    }
   ],
   "source": [
    "X_train_encoded_padded_words = sequence.pad_sequences(X_train_encoded_words, maxlen=100) \n",
    "X_val_encoded_padded_words = sequence.pad_sequences(X_val_encoded_words, maxlen=100)\n",
    "\n",
    "X_train_encoded_padded_words.shape, X_val_encoded_padded_words.shape"
   ]
  },
  {
   "cell_type": "code",
   "execution_count": 205,
   "id": "c7bd954b",
   "metadata": {},
   "outputs": [
    {
     "data": {
      "text/plain": [
       "(array([[     0,      0,      0, ..., 175951,      1,    687],\n",
       "        [     0,      0,      0, ...,      1,      9,      5],\n",
       "        [     0,      0,      0, ...,    249,   2345, 273748],\n",
       "        ...,\n",
       "        [     0,      0,      0, ...,  38769,    213,  89329],\n",
       "        [     0,      0,      0, ...,    153,   7399,      6],\n",
       "        [     0,      0,      0, ...,   4862,  14702,    427]]),\n",
       " array([[     0,      0,      0, ...,   2257,     81,  26501],\n",
       "        [     0,      0,      0, ...,   1625,      1, 185777],\n",
       "        [     0,      0,      0, ...,   1274, 107017,      6],\n",
       "        ...,\n",
       "        [     0,      0,      0, ...,   4690, 247817,   1643],\n",
       "        [     0,      0,      0, ...,  53127,     30,  94346],\n",
       "        [     0,      0,      0, ...,  69022,      5,     53]]))"
      ]
     },
     "execution_count": 205,
     "metadata": {},
     "output_type": "execute_result"
    }
   ],
   "source": [
    "X_train_encoded_padded_words, X_val_encoded_padded_words"
   ]
  },
  {
   "cell_type": "markdown",
   "id": "2b68c082",
   "metadata": {},
   "source": [
    "# Model"
   ]
  },
  {
   "cell_type": "code",
   "execution_count": 206,
   "id": "16126fd6",
   "metadata": {},
   "outputs": [
    {
     "name": "stderr",
     "output_type": "stream",
     "text": [
      "D:\\Anaconda\\lib\\site-packages\\xgboost\\sklearn.py:1146: UserWarning: The use of label encoder in XGBClassifier is deprecated and will be removed in a future release. To remove this warning, do the following: 1) Pass option use_label_encoder=False when constructing XGBClassifier object; and 2) Encode your labels (y) as integers starting with 0, i.e. 0, 1, 2, ..., [num_class - 1].\n",
      "  warnings.warn(label_encoder_deprecation_msg, UserWarning)\n"
     ]
    },
    {
     "name": "stdout",
     "output_type": "stream",
     "text": [
      "[14:38:07] WARNING: C:/Users/Administrator/workspace/xgboost-win64_release_1.4.0/src/learner.cc:1095: Starting in XGBoost 1.3.0, the default evaluation metric used with the objective 'binary:logistic' was changed from 'error' to 'logloss'. Explicitly set eval_metric if you'd like to restore the old behavior.\n"
     ]
    }
   ],
   "source": [
    "# xgboost\n",
    "from xgboost import XGBClassifier\n",
    "from sklearn.metrics  import accuracy_score\n",
    "\n",
    "model = XGBClassifier().fit(X_train_encoded_padded_words , y_train)"
   ]
  },
  {
   "cell_type": "code",
   "execution_count": 207,
   "id": "16c4dcea",
   "metadata": {},
   "outputs": [],
   "source": [
    "ypred_xgb = model.predict(X_val_encoded_padded_words)"
   ]
  },
  {
   "cell_type": "code",
   "execution_count": 208,
   "id": "68bee9e5",
   "metadata": {},
   "outputs": [
    {
     "data": {
      "text/plain": [
       "array([0, 0, 0, 0, 1], dtype=int8)"
      ]
     },
     "execution_count": 208,
     "metadata": {},
     "output_type": "execute_result"
    }
   ],
   "source": [
    "np.array(y_val.head())"
   ]
  },
  {
   "cell_type": "code",
   "execution_count": 209,
   "id": "ecfc1e92",
   "metadata": {},
   "outputs": [
    {
     "data": {
      "text/plain": [
       "array([0, 0, 0, 0, 1], dtype=int8)"
      ]
     },
     "execution_count": 209,
     "metadata": {},
     "output_type": "execute_result"
    }
   ],
   "source": [
    "ypred_xgb[0:5]"
   ]
  },
  {
   "cell_type": "code",
   "execution_count": 210,
   "id": "bc9196cc",
   "metadata": {},
   "outputs": [
    {
     "name": "stdout",
     "output_type": "stream",
     "text": [
      "accuracy: 99.67\n"
     ]
    }
   ],
   "source": [
    "accuracy = accuracy_score(y_val, ypred_xgb)\n",
    "print(\"accuracy: {:.2f}\".format(accuracy*100))"
   ]
  },
  {
   "cell_type": "code",
   "execution_count": null,
   "id": "8a206977",
   "metadata": {},
   "outputs": [],
   "source": []
  },
  {
   "cell_type": "code",
   "execution_count": 211,
   "id": "66a64d21",
   "metadata": {},
   "outputs": [
    {
     "name": "stderr",
     "output_type": "stream",
     "text": [
      "D:\\Anaconda\\lib\\site-packages\\sklearn\\linear_model\\_logistic.py:763: ConvergenceWarning: lbfgs failed to converge (status=1):\n",
      "STOP: TOTAL NO. of ITERATIONS REACHED LIMIT.\n",
      "\n",
      "Increase the number of iterations (max_iter) or scale the data as shown in:\n",
      "    https://scikit-learn.org/stable/modules/preprocessing.html\n",
      "Please also refer to the documentation for alternative solver options:\n",
      "    https://scikit-learn.org/stable/modules/linear_model.html#logistic-regression\n",
      "  n_iter_i = _check_optimize_result(\n"
     ]
    }
   ],
   "source": [
    "# logistic regression\n",
    "from sklearn.linear_model import LogisticRegression\n",
    "\n",
    "logi = LogisticRegression().fit(X_train_encoded_padded_words , y_train)"
   ]
  },
  {
   "cell_type": "code",
   "execution_count": 212,
   "id": "fd46d2bf",
   "metadata": {},
   "outputs": [],
   "source": [
    "ypred_logistic = logi.predict(X_val_encoded_padded_words)"
   ]
  },
  {
   "cell_type": "code",
   "execution_count": 213,
   "id": "05d41e7c",
   "metadata": {},
   "outputs": [
    {
     "data": {
      "text/plain": [
       "array([0, 0, 0, 0, 0], dtype=int8)"
      ]
     },
     "execution_count": 213,
     "metadata": {},
     "output_type": "execute_result"
    }
   ],
   "source": [
    "ypred_logistic[0:5]"
   ]
  },
  {
   "cell_type": "code",
   "execution_count": 214,
   "id": "2fadf631",
   "metadata": {},
   "outputs": [
    {
     "data": {
      "text/plain": [
       "array([0, 0, 0, 0, 1], dtype=int8)"
      ]
     },
     "execution_count": 214,
     "metadata": {},
     "output_type": "execute_result"
    }
   ],
   "source": [
    "np.array(y_val.head())"
   ]
  },
  {
   "cell_type": "code",
   "execution_count": 215,
   "id": "b1218339",
   "metadata": {},
   "outputs": [
    {
     "name": "stdout",
     "output_type": "stream",
     "text": [
      "accuracy: 50.93\n"
     ]
    }
   ],
   "source": [
    "accuracy = accuracy_score(y_val, ypred_logistic)\n",
    "print(\"accuracy: {:.2f}\".format(accuracy*100))"
   ]
  },
  {
   "cell_type": "code",
   "execution_count": null,
   "id": "b095d2e8",
   "metadata": {},
   "outputs": [],
   "source": []
  },
  {
   "cell_type": "code",
   "execution_count": 216,
   "id": "df719a3f",
   "metadata": {},
   "outputs": [],
   "source": [
    "# Gradient Boosting\n",
    "from sklearn.ensemble import GradientBoostingClassifier\n",
    "\n",
    "gbc = GradientBoostingClassifier().fit(X_train_encoded_padded_words , y_train)"
   ]
  },
  {
   "cell_type": "code",
   "execution_count": 217,
   "id": "6fd12c50",
   "metadata": {},
   "outputs": [],
   "source": [
    "ypred_gbc = gbc.predict(X_val_encoded_padded_words)"
   ]
  },
  {
   "cell_type": "code",
   "execution_count": 218,
   "id": "ca17d69b",
   "metadata": {},
   "outputs": [
    {
     "data": {
      "text/plain": [
       "array([0, 0, 0, 0, 1], dtype=int8)"
      ]
     },
     "execution_count": 218,
     "metadata": {},
     "output_type": "execute_result"
    }
   ],
   "source": [
    "ypred_gbc[0:5]"
   ]
  },
  {
   "cell_type": "code",
   "execution_count": 219,
   "id": "7b7d0eef",
   "metadata": {},
   "outputs": [
    {
     "data": {
      "text/plain": [
       "array([0, 0, 0, 0, 1], dtype=int8)"
      ]
     },
     "execution_count": 219,
     "metadata": {},
     "output_type": "execute_result"
    }
   ],
   "source": [
    "np.array(y_val.head())"
   ]
  },
  {
   "cell_type": "code",
   "execution_count": 220,
   "id": "98cbe487",
   "metadata": {},
   "outputs": [
    {
     "name": "stdout",
     "output_type": "stream",
     "text": [
      "accuracy: 98.81\n"
     ]
    }
   ],
   "source": [
    "accuracy = accuracy_score(y_val, ypred_gbc)\n",
    "print(\"accuracy: {:.2f}\".format(accuracy*100))"
   ]
  },
  {
   "cell_type": "code",
   "execution_count": null,
   "id": "20da22a3",
   "metadata": {},
   "outputs": [],
   "source": []
  },
  {
   "cell_type": "markdown",
   "id": "5b56adae",
   "metadata": {},
   "source": [
    "# Predictions"
   ]
  },
  {
   "cell_type": "code",
   "execution_count": 221,
   "id": "e0f2c81b",
   "metadata": {},
   "outputs": [],
   "source": [
    "# save the model and tokenizer\n",
    "import pickle\n",
    "pickle.dump(Tokenizer, open('models/tokenizer.pkl','wb'))\n",
    "pickle.dump(model, open('models/xgb_model.pkl','wb'))\n",
    "pickle.dump(logi, open('models/logistic.pkl','wb'))\n",
    "pickle.dump(gbc, open('models/gbc.pkl','wb'))"
   ]
  },
  {
   "cell_type": "code",
   "execution_count": 222,
   "id": "66e1c5da",
   "metadata": {},
   "outputs": [],
   "source": [
    "# load the saved model  and tokenizer\n",
    "Tokenizer = pickle.load(open('models/tokenizer.pkl','rb'))\n",
    "saved_model = pickle.load(open('models/xgb_model.pkl','rb'))\n",
    "saved_model1 = pickle.load(open('models/logistic.pkl','rb'))\n",
    "saved_model2 = pickle.load(open('models/gbc.pkl','rb'))"
   ]
  },
  {
   "cell_type": "code",
   "execution_count": 223,
   "id": "1b01ea68",
   "metadata": {},
   "outputs": [],
   "source": [
    "def predict(text):\n",
    "    url = text\n",
    "    valid = validators.url(url)\n",
    "    if(valid==True):\n",
    "        \n",
    "        tokens = Tokenizer.texts_to_sequences([url])\n",
    "        tokens = sequence.pad_sequences(tokens, maxlen=100)\n",
    "        pred = saved_model2.predict(np.array(tokens),)\n",
    "        classes = ['Benign url','Malicious url']\n",
    "        result = classes[pred[0]]\n",
    "        return result\n",
    "    else:\n",
    "        return (\"Entered url is Invalid\")"
   ]
  },
  {
   "cell_type": "code",
   "execution_count": 224,
   "id": "7a65f0dc",
   "metadata": {},
   "outputs": [
    {
     "data": {
      "text/plain": [
       "'Benign url'"
      ]
     },
     "execution_count": 224,
     "metadata": {},
     "output_type": "execute_result"
    }
   ],
   "source": [
    "predict(\"https://www.youtube.com/\")"
   ]
  },
  {
   "cell_type": "code",
   "execution_count": 225,
   "id": "bc32b725",
   "metadata": {},
   "outputs": [
    {
     "data": {
      "text/plain": [
       "'Benign url'"
      ]
     },
     "execution_count": 225,
     "metadata": {},
     "output_type": "execute_result"
    }
   ],
   "source": [
    "predict(\"https://www.w3schools.com/sql/sql_orderby.asp\")"
   ]
  },
  {
   "cell_type": "code",
   "execution_count": 226,
   "id": "ac4edfab",
   "metadata": {},
   "outputs": [
    {
     "data": {
      "text/plain": [
       "'Malicious url'"
      ]
     },
     "execution_count": 226,
     "metadata": {},
     "output_type": "execute_result"
    }
   ],
   "source": [
    "predict(\"https://insidethestorex.com/sd/\")"
   ]
  },
  {
   "cell_type": "code",
   "execution_count": 227,
   "id": "98fb7210",
   "metadata": {},
   "outputs": [
    {
     "data": {
      "text/plain": [
       "'Entered url is Invalid'"
      ]
     },
     "execution_count": 227,
     "metadata": {},
     "output_type": "execute_result"
    }
   ],
   "source": [
    "predict(\"http://i_am_not_url.com\")"
   ]
  },
  {
   "cell_type": "code",
   "execution_count": 228,
   "id": "699463e9",
   "metadata": {},
   "outputs": [
    {
     "data": {
      "text/plain": [
       "'Malicious url'"
      ]
     },
     "execution_count": 228,
     "metadata": {},
     "output_type": "execute_result"
    }
   ],
   "source": [
    "predict(\"https://1fichier.com/?0ewdpuct0nz0ck46vi6h\")"
   ]
  },
  {
   "cell_type": "code",
   "execution_count": 229,
   "id": "7c3a2253",
   "metadata": {},
   "outputs": [
    {
     "data": {
      "text/plain": [
       "'Malicious url'"
      ]
     },
     "execution_count": 229,
     "metadata": {},
     "output_type": "execute_result"
    }
   ],
   "source": [
    "predict(\"https://skidrowreloaded.ufile.io/k1mfa3fi\")"
   ]
  },
  {
   "cell_type": "code",
   "execution_count": null,
   "id": "b970992a",
   "metadata": {},
   "outputs": [],
   "source": []
  },
  {
   "cell_type": "code",
   "execution_count": null,
   "id": "2d405de0",
   "metadata": {},
   "outputs": [],
   "source": []
  }
 ],
 "metadata": {
  "kernelspec": {
   "display_name": "Python 3",
   "language": "python",
   "name": "python3"
  },
  "language_info": {
   "codemirror_mode": {
    "name": "ipython",
    "version": 3
   },
   "file_extension": ".py",
   "mimetype": "text/x-python",
   "name": "python",
   "nbconvert_exporter": "python",
   "pygments_lexer": "ipython3",
   "version": "3.8.5"
  }
 },
 "nbformat": 4,
 "nbformat_minor": 5
}
